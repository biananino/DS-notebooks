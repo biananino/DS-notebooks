{
 "cells": [
  {
   "cell_type": "markdown",
   "id": "d60ac9ee-24eb-45f1-8e3e-c0efa5f48110",
   "metadata": {},
   "source": [
    "# 0. Definición del problema"
   ]
  },
  {
   "cell_type": "markdown",
   "id": "065f0e1f-e62c-4811-81aa-f9094e67c6f9",
   "metadata": {},
   "source": [
    "Una empresa sospecha que sus correos están siendo interceptados por la competencia, por lo cual, decide desarrollar un algoritmo de encriptación. Un analista de datos que estuvo en el curso de Python propone el siguiente algoritmo:\n",
    "\n",
    "En cada una de las palabras que compone el texto de entrada, tomar cada uno de los caracteres de la palabra y rotarla en 13 posiciones del abecedario. Es decir, si se toma como base el siguiente abecedario: ABCDEFGHIJKLMNÑOPQRSTUVWXYZ, entonces, el abecedario rotado será: NÑOPQRSTUVWXYZABCDEFGHIJKLM.\n",
    "\n",
    "Por lo tanto, si a nuestro algoritmo entra la palabra HOLA, entonces la salida debería ser TBXN.\n",
    "\n",
    "Tome en consideración que los caracteres que no son reconocidos, por ejemplo, números, espacios, guiones y otros, no sufrirán modificaciones. Considere, además, que este algoritmo no debe ser sensible a mayúsculas y minúsculas."
   ]
  },
  {
   "cell_type": "markdown",
   "id": "e5142fb1-0073-4575-9cf6-238529697cf8",
   "metadata": {},
   "source": [
    "# 1. Funciones Auxiliares\n",
    "Para manejar entradas y levantar exceptiones"
   ]
  },
  {
   "cell_type": "code",
   "execution_count": 1,
   "id": "8d3fcffb-79b0-4351-807b-ee18f2071259",
   "metadata": {},
   "outputs": [],
   "source": [
    "def agregar_mensaje(exception,mensaje):\n",
    "    \"\"\"Agrega mensajes a las excepciones\n",
    "    \"\"\"\n",
    "    args = exception.args\n",
    "    if not args:\n",
    "        arg0 = mensaje\n",
    "    else:\n",
    "        arg0 = f\"{args[0]}\\n{mensaje}\"\n",
    "    exception.args = (arg0,) + args[1:]"
   ]
  },
  {
   "cell_type": "code",
   "execution_count": 2,
   "id": "bcf88002-8239-4144-b0b3-19ddc4ac31f3",
   "metadata": {},
   "outputs": [],
   "source": [
    "def validar_string(string):\n",
    "    \"\"\"Revisa que la entreada sea un string o se pueda transformar a uno\n",
    "    \"\"\"\n",
    "    try:\n",
    "        string = str(string)\n",
    "    except Exception as e:\n",
    "        mensaje_error =  \"Error. No se pudo transformar la entrada a un string\"\n",
    "        e = agregar_mensaje(e,mensaje_error)\n",
    "        raise\n",
    "    else:\n",
    "        return string"
   ]
  },
  {
   "cell_type": "code",
   "execution_count": 3,
   "id": "8eb48204-10af-4c23-9a47-a731477fc261",
   "metadata": {},
   "outputs": [],
   "source": [
    "def validar_diccionario(diccionario):\n",
    "    \"\"\"Revisa que la entreada sea un diccionario o se pueda transformar a uno\n",
    "    \"\"\"\n",
    "    try:\n",
    "        diccionario = dict(diccionario)\n",
    "    except Exception as e:\n",
    "        mensaje_error =  \"Error. No se pudo transformar la entrada a un diccionario\"\n",
    "        e = agregar_mensaje(e,mensaje_error)\n",
    "        raise\n",
    "    else:\n",
    "        return diccionario"
   ]
  },
  {
   "cell_type": "code",
   "execution_count": 4,
   "id": "b5896d8e-ef50-4ae8-b94f-d2b93fbbc82b",
   "metadata": {},
   "outputs": [],
   "source": [
    "def validar_entero(integer):\n",
    "    \"\"\"Revisa que la entrada sea un entero o un string correspondiente a un entero.\n",
    "    No transforma floats a enteros.\n",
    "    \"\"\"\n",
    "    try:\n",
    "        integer = int(str(integer)) #Evita transformar floats a enteros.\n",
    "    except Exception as e:\n",
    "        mensaje_error =  \"Error. No se pudo transformar la entrada a un entero\"\n",
    "        e = agregar_mensaje(e,mensaje_error)\n",
    "        raise\n",
    "    else:\n",
    "        return integer"
   ]
  },
  {
   "cell_type": "code",
   "execution_count": 5,
   "id": "60416335-f50b-4c34-861b-df53b16c127f",
   "metadata": {},
   "outputs": [],
   "source": [
    "def validar_alfabeto(alfabeto):\n",
    "    \"\"\"\n",
    "    Revisa que las entradas son listas válidas para generar_diccionario_rotacion\n",
    "    \"\"\"\n",
    "    #Si se introduce un str lo transforma en lista para asegurar que funcione bien la función.\n",
    "    if type(alfabeto) == str:\n",
    "        alfabeto = [alfabeto]\n",
    "    #Revisar que la entrada alfabeto se pueda convertir en lista\n",
    "    else:\n",
    "        try:\n",
    "            alfabeto = list(alfabeto)\n",
    "        except Exception as e:\n",
    "            mensaje_error =  \"Error. No se pudo transformar alfabeto a una lista\"\n",
    "            e = agregar_mensaje(e,mensaje_error)\n",
    "            raise\n",
    "    return alfabeto"
   ]
  },
  {
   "cell_type": "markdown",
   "id": "2b676433-d04c-4f50-92ca-24f6f0324466",
   "metadata": {},
   "source": [
    "# 2. Funciones genericas\n",
    "Para implementar la lógica de ROT13 de manera generica"
   ]
  },
  {
   "cell_type": "code",
   "execution_count": 6,
   "id": "6263e74d-51d3-41b1-bd2a-40a841581279",
   "metadata": {},
   "outputs": [],
   "source": [
    "def generar_diccionario_rotacion(alfabeto,rotacion):\n",
    "    \"\"\"Genera un diccionario con alfabetos rotados según la entrada\n",
    "    rotación, a partir de una lista cuyos elementos son variaciones del\n",
    "    alfabeto (ejemplo [\"abc\",\"ABC\"]).\n",
    "    \"\"\"\n",
    "    alfabeto = validar_alfabeto(alfabeto)\n",
    "    rotacion = validar_entero(rotacion)\n",
    "    diccionario = {}\n",
    "    for indexv, variacion in enumerate(alfabeto): #For loop sobre las variaciones del alfabeto\n",
    "        for posicion, letra in enumerate(variacion):  #For loop sobre las letras del alfabeto\n",
    "            nuevo_index = (posicion + rotacion) % len(variacion) #Calcula el indice rotado\n",
    "            diccionario[letra] = alfabeto[indexv][nuevo_index] #Agrega la letra transformada al diccionario\n",
    "    return diccionario"
   ]
  },
  {
   "cell_type": "markdown",
   "id": "99575f38-4d3c-4a02-812e-1d1e51e9f92c",
   "metadata": {},
   "source": [
    "### Tests de generar diccionario"
   ]
  },
  {
   "cell_type": "code",
   "execution_count": 7,
   "id": "efbd6501-53a7-47d1-81b3-a674a6e480d7",
   "metadata": {},
   "outputs": [
    {
     "name": "stdout",
     "output_type": "stream",
     "text": [
      "{'a': 'a', 'b': 'b', 'c': 'c'}\n",
      "{'a': 'b', 'b': 'c', 'c': 'a', 'A': 'B', 'B': 'C', 'C': 'A'}\n",
      "{'a': 'b', 'b': 'c', 'c': 'A', 'A': 'B', 'B': 'C', 'C': 'a'}\n",
      "{}\n"
     ]
    }
   ],
   "source": [
    "string1 = \"abc\"\n",
    "string2 = \"ABC\"\n",
    "lista_unida = [string1,string2]\n",
    "string_unidas = string1 + string2\n",
    "resultados_test_generar_diccionario = [\n",
    "{'a': 'a', 'b': 'b', 'c': 'c'},\n",
    "{'a': 'b', 'b': 'c', 'c': 'a', 'A': 'B', 'B': 'C', 'C': 'A'},\n",
    "{'a': 'b', 'b': 'c', 'c': 'A', 'A': 'B', 'B': 'C', 'C': 'a'},\n",
    "{}\n",
    "]\n",
    "\n",
    "#Genera un diccionario que mapea cada caracter a si mismo\n",
    "print(generar_diccionario_rotacion(string1,0))\n",
    "\n",
    "#Genera un diccionario para ROT1, incluyendo mayusculas y minusculas\n",
    "print(generar_diccionario_rotacion(lista_unida,1))\n",
    "\n",
    "#Concatenar los strings en vez de agregarlos a una lista da un resultado 'erroneo', que mezcla mayusculas con minusculas\n",
    "print(generar_diccionario_rotacion(string_unidas,1))\n",
    "\n",
    "#Lista vacía devuelve diccionario vacío\n",
    "print(generar_diccionario_rotacion([],1))\n",
    "\n",
    "#La rotacion debe ser un entero, sino generar una excepción\n",
    "#generar_diccionario_rotacion(string_unidas,1.0)"
   ]
  },
  {
   "cell_type": "code",
   "execution_count": 8,
   "id": "a496fdac-b5e3-40d0-b151-3169b893acae",
   "metadata": {},
   "outputs": [
    {
     "name": "stdout",
     "output_type": "stream",
     "text": [
      "{'a': 'a', 'b': 'b', 'c': 'c'}\n",
      "{'a': 'b', 'b': 'c', 'c': 'a', 'A': 'B', 'B': 'C', 'C': 'A'}\n",
      "{'a': 'b', 'b': 'c', 'c': 'A', 'A': 'B', 'B': 'C', 'C': 'a'}\n",
      "{}\n"
     ]
    }
   ],
   "source": [
    "print(*resultados_test_generar_diccionario,sep = \"\\n\")"
   ]
  },
  {
   "cell_type": "code",
   "execution_count": 9,
   "id": "170cea67-4410-4c45-b076-3c72f612225d",
   "metadata": {},
   "outputs": [],
   "source": [
    "def traductor_string(string,diccionario):\n",
    "    \"\"\"Reemplaza caracteres en un string según \n",
    "    el diccionario entregado.\"\"\" \n",
    "    string = validar_string(string)\n",
    "    diccionario = validar_diccionario(diccionario)\n",
    "    #Crea una lista reemplazando los caracteres según el diccionario\n",
    "    lista_reemplazada = [diccionario[char] if char in diccionario else char for char in string]    \n",
    "    nueva_string = \"\".join(lista_reemplazada) #Convierte la lista nuevamente en un string\n",
    "    return nueva_string"
   ]
  },
  {
   "cell_type": "markdown",
   "id": "8c254127-62b1-4d27-9481-263b59558c1b",
   "metadata": {},
   "source": [
    "### Tests de traducir string"
   ]
  },
  {
   "cell_type": "code",
   "execution_count": 10,
   "id": "e19a9e04-c9e0-4b1f-9c3a-cc9d428f1e4f",
   "metadata": {},
   "outputs": [
    {
     "name": "stdout",
     "output_type": "stream",
     "text": [
      "\n",
      "abc123\n",
      "abc12c\n",
      "ABCabc\n",
      "ABC123\n"
     ]
    }
   ],
   "source": [
    "test_string_traductor = \"abc123\"\n",
    "resultados_test_traductor = [\n",
    "\"\",\n",
    "\"abc123\",\n",
    "\"abc12c\",\n",
    "\"ABCabc\",\n",
    "\"ABC123\"\n",
    "]\n",
    "\n",
    "#String vacío, devolver string vacío\n",
    "print(traductor_string(\"\",{'a':'A','b':'B','c':'C'}))\n",
    "\n",
    "#Diccionario vacío, devolver el mismo string\n",
    "print(traductor_string(test_string_traductor,{}))\n",
    "\n",
    "#Diccionario donde los numeros no son de tipo string, no debe reemplazarlos\n",
    "print(traductor_string(test_string_traductor,{1:'a',2:'b','3':'c'}))\n",
    "\n",
    "#Diccionario que cambia minusculas a mayusculas y numeros a letras\n",
    "print(traductor_string(test_string_traductor,{'a':'A','b':'B','c':'C','1':'a','2':'b','3':'c'}))\n",
    "\n",
    "#Si usuario introduce algo que puede convertirse en diccionario la funcion debe manejarlo:\n",
    "print(traductor_string(test_string_traductor,[('a','A'),('b','B'),('c','C')]))\n",
    "\n",
    "#Si usuario introduce algo que no puede convertirse en diccionario la funcion debe levantar una excepción:\n",
    "#traductor_string(test_string_traductor,123))"
   ]
  },
  {
   "cell_type": "code",
   "execution_count": 11,
   "id": "39285329-d466-457b-9e1a-c24f51505315",
   "metadata": {},
   "outputs": [
    {
     "name": "stdout",
     "output_type": "stream",
     "text": [
      "\n",
      "abc123\n",
      "abc12c\n",
      "ABCabc\n",
      "ABC123\n"
     ]
    }
   ],
   "source": [
    "print(*resultados_test_traductor,sep = \"\\n\")"
   ]
  },
  {
   "cell_type": "markdown",
   "id": "bfcc80ed-3d39-49dc-877c-ac6f95192e20",
   "metadata": {},
   "source": [
    "# 3. Implementación de ROT13\n",
    "La siguiente implementación primero genera las correspondencias usando generar_diccionario_rotacion y las guarda en una variable.\n",
    "\n",
    "Luego usa la función  traductor_string para hacer los reemplazos."
   ]
  },
  {
   "cell_type": "code",
   "execution_count": 12,
   "id": "e5505983-707d-42c3-8509-daac26405ef7",
   "metadata": {},
   "outputs": [],
   "source": [
    "alfabeto_minuscula = \"abcdefghijklmnñopqrstuvwxyz\"\n",
    "alfabeto_mayuscula = \"ABCDEFGHIJKLMNÑOPQRSTUVWXYZ\"\n",
    "alfabeto = [alfabeto_minuscula,alfabeto_mayuscula]\n",
    "#print(alfabeto) #Visualizar"
   ]
  },
  {
   "cell_type": "code",
   "execution_count": 13,
   "id": "2c65b339-764d-42f1-8742-19b02bcbc6c6",
   "metadata": {},
   "outputs": [],
   "source": [
    "#Genera los diccionarios\n",
    "diccionario_encriptacion = generar_diccionario_rotacion(alfabeto,13)\n",
    "diccionario_desencriptacion = generar_diccionario_rotacion(alfabeto,-13)\n",
    "#print(diccionario_encriptacion,diccionario_desencriptacion,sep = \"\\n\\n\") #Visualizar"
   ]
  },
  {
   "cell_type": "code",
   "execution_count": 14,
   "id": "4eb21476-3e30-42d6-a438-4935b32d5243",
   "metadata": {},
   "outputs": [],
   "source": [
    "def rot13_encriptar(string):\n",
    "    \"\"\"Transforma la entrada en un string y la encripta usando rot13.\n",
    "    \"\"\"\n",
    "    return traductor_string(string,diccionario_encriptacion)\n",
    "\n",
    "def rot13_desencriptar(string):\n",
    "    \"\"\"Transforma la entrada en un string y la desencripta usando rot13.\n",
    "    \"\"\"\n",
    "    return traductor_string(string,diccionario_desencriptacion)"
   ]
  },
  {
   "cell_type": "markdown",
   "id": "ab6b25bb-75ee-4d4e-a10e-5e93eeb01eeb",
   "metadata": {},
   "source": [
    "### Pruebas de encriptación y desencriptación"
   ]
  },
  {
   "cell_type": "code",
   "execution_count": 15,
   "id": "df4b2f6a-6e17-42a3-a3ee-7ddeb90dbe82",
   "metadata": {},
   "outputs": [
    {
     "name": "stdout",
     "output_type": "stream",
     "text": [
      "Original: Hola; Encriptado: Tbxn; Desencriptado: Hola. \n",
      "¿Funcionó correctamente?: Si\n",
      "Original: HOLA!; Encriptado: TBXN!; Desencriptado: HOLA!. \n",
      "¿Funcionó correctamente?: Si\n",
      "Original: H4L1; Encriptado: T4X1; Desencriptado: H4L1. \n",
      "¿Funcionó correctamente?: Si\n",
      "Original: Hola como te va; Encriptado: Tbxn obyb gq in; Desencriptado: Hola como te va. \n",
      "¿Funcionó correctamente?: Si\n",
      "Original: ABCDEFGHIJKLMNÑOPQRSTUVWXYZ; Encriptado: NÑOPQRSTUVWXYZABCDEFGHIJKLM; Desencriptado: ABCDEFGHIJKLMNÑOPQRSTUVWXYZ. \n",
      "¿Funcionó correctamente?: Si\n",
      "Original: 1234567890!·$%&/()=?¿,.-;:_{}[]^*+; Encriptado: 1234567890!·$%&/()=?¿,.-;:_{}[]^*+; Desencriptado: 1234567890!·$%&/()=?¿,.-;:_{}[]^*+. \n",
      "¿Funcionó correctamente?: Si\n",
      "Original: АБВГДЕЁЖЗИЙКЛМНОПРСТУФХЦЧШЩЪЫЬЭЮЯ; Encriptado: АБВГДЕЁЖЗИЙКЛМНОПРСТУФХЦЧШЩЪЫЬЭЮЯ; Desencriptado: АБВГДЕЁЖЗИЙКЛМНОПРСТУФХЦЧШЩЪЫЬЭЮЯ. \n",
      "¿Funcionó correctamente?: Si\n"
     ]
    }
   ],
   "source": [
    "#Pruebas de mayusculas, minusculas, puntuación y simbolos, y otros alfabetos con letras parecidas.\n",
    "#Lista con tuplas donde primer elemento es entrada, segundo es resultado esperado.\n",
    "casos_prueba_rot13 = [\n",
    "(\"Hola\",\"Tbxn\"),\n",
    "(\"HOLA!\",\"TBXN!\"),\n",
    "(\"H4L1\",\"T4X1\"),\n",
    "(\"Hola como te va\",\"Tbxn obyb gq in\"),\n",
    "(\"ABCDEFGHIJKLMNÑOPQRSTUVWXYZ\",\"NÑOPQRSTUVWXYZABCDEFGHIJKLM\"),\n",
    "(\"1234567890!·$%&/()=?¿,.-;:_{}[]^*+\",\"1234567890!·$%&/()=?¿,.-;:_{}[]^*+\"),\n",
    "(\"АБВГДЕЁЖЗИЙКЛМНОПРСТУФХЦЧШЩЪЫЬЭЮЯ\",\"АБВГДЕЁЖЗИЙКЛМНОПРСТУФХЦЧШЩЪЫЬЭЮЯ\")\n",
    "]\n",
    "#Revisa si el resultado esperado es igual al obtenido, y si la cadena desencriptada es igual a la encriptada\n",
    "for caso in casos_prueba_rot13:\n",
    "    encriptado = rot13_encriptar(caso[0])\n",
    "    desencriptado = rot13_desencriptar(encriptado)\n",
    "    print(f\"Original: {caso[0]}; Encriptado: {encriptado}; Desencriptado: {desencriptado}.\",\"\\n\"\n",
    "    f\"¿Funcionó correctamente?: {'Si' if caso[0] == desencriptado and encriptado == caso[1] else 'no'}\")"
   ]
  }
 ],
 "metadata": {
  "kernelspec": {
   "display_name": "Python 3 (ipykernel)",
   "language": "python",
   "name": "python3"
  },
  "language_info": {
   "codemirror_mode": {
    "name": "ipython",
    "version": 3
   },
   "file_extension": ".py",
   "mimetype": "text/x-python",
   "name": "python",
   "nbconvert_exporter": "python",
   "pygments_lexer": "ipython3",
   "version": "3.10.12"
  }
 },
 "nbformat": 4,
 "nbformat_minor": 5
}
